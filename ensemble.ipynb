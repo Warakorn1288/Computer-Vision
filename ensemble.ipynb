{
  "nbformat": 4,
  "nbformat_minor": 0,
  "metadata": {
    "colab": {
      "name": "ensemble.ipynb",
      "provenance": [],
      "collapsed_sections": []
    },
    "kernelspec": {
      "name": "python3",
      "display_name": "Python 3"
    },
    "language_info": {
      "name": "python"
    },
    "accelerator": "GPU"
  },
  "cells": [
    {
      "cell_type": "markdown",
      "metadata": {
        "id": "3e5o5W82T32s"
      },
      "source": [
        "# **1. Setup**"
      ]
    },
    {
      "cell_type": "code",
      "metadata": {
        "id": "6elG7-uywCuR"
      },
      "source": [
        "import tensorflow as tf\n",
        "import numpy as np\n",
        "from sklearn.model_selection import train_test_split\n",
        "\n",
        "import matplotlib.pyplot as plt\n",
        "import random\n",
        "import os\n",
        "import sys\n",
        "\n",
        "from tensorflow import keras\n",
        "from tensorflow.keras import layers\n",
        "from tensorflow.keras import initializers\n",
        "#from tensorflow.keras.preprocessing.image import img_to_array, load_img\n",
        "from keras.layers import Conv2D, Flatten, Dense, Dropout, MaxPooling2D, Activation, Average, AveragePooling2D\n",
        "from keras.models import Sequential\n",
        "from tensorflow.keras.utils import to_categorical\n",
        "from keras.initializers import Initializer as KerasInitializer\n",
        "from keras.callbacks import EarlyStopping\n",
        "from tensorflow.keras import initializers\n",
        "from keras.models import Model, Input\n",
        "from keras.losses import categorical_crossentropy\n",
        "#from keras.models import load_model"
      ],
      "execution_count": 2,
      "outputs": []
    },
    {
      "cell_type": "code",
      "metadata": {
        "colab": {
          "base_uri": "https://localhost:8080/"
        },
        "id": "AEfXW8rq0J-q",
        "outputId": "8b74057b-23d0-4734-ac23-8d9a2381d017"
      },
      "source": [
        "print(\"Num GPUs Available: \", len(tf.config.list_physical_devices('GPU')))"
      ],
      "execution_count": 3,
      "outputs": [
        {
          "output_type": "stream",
          "name": "stdout",
          "text": [
            "Num GPUs Available:  0\n"
          ]
        }
      ]
    },
    {
      "cell_type": "code",
      "metadata": {
        "id": "jw7wULTT7U1x",
        "colab": {
          "base_uri": "https://localhost:8080/"
        },
        "outputId": "66f41ab2-eda5-4921-be52-e292679be30a"
      },
      "source": [
        "from google.colab import drive\n",
        "drive.mount('/content/drive')\n",
        "import sys\n",
        "sys.path.append(\"/content/drive/MyDrive/\")"
      ],
      "execution_count": 4,
      "outputs": [
        {
          "output_type": "stream",
          "name": "stdout",
          "text": [
            "Mounted at /content/drive\n"
          ]
        }
      ]
    },
    {
      "cell_type": "code",
      "metadata": {
        "id": "ZRMWe1oKp-bt",
        "colab": {
          "base_uri": "https://localhost:8080/"
        },
        "outputId": "d8b5d1ba-a071-483b-97e9-23bd85ab3a85"
      },
      "source": [
        "# show variables memory usage\n",
        "\n",
        "def sizeof_fmt(num, suffix='B'):\n",
        "    ''' by Fred Cirera,  https://stackoverflow.com/a/1094933/1870254, modified'''\n",
        "    for unit in ['','Ki','Mi','Gi','Ti','Pi','Ei','Zi']:\n",
        "        if abs(num) < 1024.0:\n",
        "            return \"%3.1f %s%s\" % (num, unit, suffix)\n",
        "        num /= 1024.0\n",
        "    return \"%.1f %s%s\" % (num, 'Yi', suffix)\n",
        "\n",
        "for name, size in sorted(((name, sys.getsizeof(value)) for name, value in locals().items()),\n",
        "                         key= lambda x: -x[1])[:10]:\n",
        "    print(\"{:>30}: {:>8}\".format(name, sizeof_fmt(size)))"
      ],
      "execution_count": 5,
      "outputs": [
        {
          "output_type": "stream",
          "name": "stdout",
          "text": [
            "                        Conv2D:  1.0 KiB\n",
            "                       Flatten:  1.0 KiB\n",
            "                         Dense:  1.0 KiB\n",
            "                       Dropout:  1.0 KiB\n",
            "                  MaxPooling2D:  1.0 KiB\n",
            "                    Activation:  1.0 KiB\n",
            "                       Average:  1.0 KiB\n",
            "              AveragePooling2D:  1.0 KiB\n",
            "                    Sequential:  1.0 KiB\n",
            "              KerasInitializer:  1.0 KiB\n"
          ]
        }
      ]
    },
    {
      "cell_type": "code",
      "metadata": {
        "id": "zt1QgYHb-sWX"
      },
      "source": [
        "# data parameters\n",
        "\n",
        "img_size = 150\n",
        "input_shape = (img_size, img_size, 3)\n",
        "num_classes = 43"
      ],
      "execution_count": 6,
      "outputs": []
    },
    {
      "cell_type": "code",
      "metadata": {
        "id": "ejWCDGuDBmyV"
      },
      "source": [
        "# training parameters (just for testing the function, epoch=1)\n",
        "\n",
        "learning_rate = 0.02\n",
        "training_epochs = 20\n",
        "batch_size = 128\n",
        "dropout = 0.5\n",
        "patience = 10\n",
        "verbose = 1"
      ],
      "execution_count": 7,
      "outputs": []
    },
    {
      "cell_type": "code",
      "metadata": {
        "id": "TA_tehGLBsdX"
      },
      "source": [
        "# validation dataset proportion of training dataset\n",
        "\n",
        "validation_split = 0.1"
      ],
      "execution_count": 8,
      "outputs": []
    },
    {
      "cell_type": "code",
      "metadata": {
        "id": "HLbMSlWNBuHS"
      },
      "source": [
        "# early stopping\n",
        "# this EarlyStopping will stop the training when there is no improvement \n",
        "# in the validation loss of 1% for 'patience' consecutive epochs\n",
        "\n",
        "es = EarlyStopping(monitor = 'val_loss', mode = 'min', patience = patience, verbose = verbose)"
      ],
      "execution_count": 9,
      "outputs": []
    },
    {
      "cell_type": "code",
      "metadata": {
        "id": "tEsaUhKzBx0H"
      },
      "source": [
        "# initialization\n",
        "\n",
        "k_initializer = tf.initializers.GlorotUniform() # Xavier Uniform\n",
        "# b_initializer = initializers.Zeros()"
      ],
      "execution_count": 10,
      "outputs": []
    },
    {
      "cell_type": "code",
      "metadata": {
        "id": "bLd1m2xhBzLv"
      },
      "source": [
        "# this input layer will be put into the proposed ensamble CNN as a commom block\n",
        "\n",
        "model_input = keras.Input(shape = input_shape)"
      ],
      "execution_count": 11,
      "outputs": []
    },
    {
      "cell_type": "code",
      "metadata": {
        "id": "wib0OsluJEMX"
      },
      "source": [
        "# optimizer\n",
        "\n",
        "optimizer = keras.optimizers.SGD(learning_rate = learning_rate)"
      ],
      "execution_count": 12,
      "outputs": []
    },
    {
      "cell_type": "code",
      "metadata": {
        "id": "yExZ0cypBz5B",
        "colab": {
          "base_uri": "https://localhost:8080/"
        },
        "outputId": "a9ab24f9-8ca7-4592-b530-dbc53a75261f"
      },
      "source": [
        "# create the architecture of 'model'\n",
        "\n",
        "model = keras.Sequential(\n",
        "    [\n",
        "          model_input,\n",
        "          layers.Conv2D(8, kernel_size = (3, 3), kernel_initializer = k_initializer, activation = \"relu\"),\n",
        "          layers.AveragePooling2D(pool_size = (2, 2)),\n",
        "          layers.Conv2D(16, kernel_size = (3, 3), kernel_initializer = k_initializer, activation = \"relu\"),\n",
        "          layers.AveragePooling2D(pool_size = (2, 2)),\n",
        "          layers.Conv2D(32, kernel_size = (3, 3), kernel_initializer = k_initializer, activation = \"relu\"),\n",
        "          layers.AveragePooling2D(pool_size = (2, 2)),\n",
        "          layers.Flatten(),\n",
        "          layers.Dropout(dropout),\n",
        "          #layers.Dense(5000, kernel_initializer = k_initializer, activation = \"relu\"),\n",
        "          layers.Dense(1500, kernel_initializer = k_initializer, activation = \"relu\"),\n",
        "          layers.Dense(800, kernel_initializer = k_initializer, activation = \"relu\"),\n",
        "          layers.Dense(300, kernel_initializer = k_initializer, activation = \"relu\"),\n",
        "          layers.Dense(num_classes, kernel_initializer = k_initializer, activation = \"softmax\")        \n",
        "    ])\n",
        "\n",
        "model_output = model(model_input)\n",
        "\n",
        "# summarize the model\n",
        "\n",
        "model.summary()"
      ],
      "execution_count": 13,
      "outputs": [
        {
          "output_type": "stream",
          "name": "stdout",
          "text": [
            "Model: \"sequential\"\n",
            "_________________________________________________________________\n",
            " Layer (type)                Output Shape              Param #   \n",
            "=================================================================\n",
            " conv2d (Conv2D)             (None, 148, 148, 8)       224       \n",
            "                                                                 \n",
            " average_pooling2d (AverageP  (None, 74, 74, 8)        0         \n",
            " ooling2D)                                                       \n",
            "                                                                 \n",
            " conv2d_1 (Conv2D)           (None, 72, 72, 16)        1168      \n",
            "                                                                 \n",
            " average_pooling2d_1 (Averag  (None, 36, 36, 16)       0         \n",
            " ePooling2D)                                                     \n",
            "                                                                 \n",
            " conv2d_2 (Conv2D)           (None, 34, 34, 32)        4640      \n",
            "                                                                 \n",
            " average_pooling2d_2 (Averag  (None, 17, 17, 32)       0         \n",
            " ePooling2D)                                                     \n",
            "                                                                 \n",
            " flatten (Flatten)           (None, 9248)              0         \n",
            "                                                                 \n",
            " dropout (Dropout)           (None, 9248)              0         \n",
            "                                                                 \n",
            " dense (Dense)               (None, 1500)              13873500  \n",
            "                                                                 \n",
            " dense_1 (Dense)             (None, 800)               1200800   \n",
            "                                                                 \n",
            " dense_2 (Dense)             (None, 300)               240300    \n",
            "                                                                 \n",
            " dense_3 (Dense)             (None, 43)                12943     \n",
            "                                                                 \n",
            "=================================================================\n",
            "Total params: 15,333,575\n",
            "Trainable params: 15,333,575\n",
            "Non-trainable params: 0\n",
            "_________________________________________________________________\n"
          ]
        }
      ]
    },
    {
      "cell_type": "code",
      "metadata": {
        "id": "k41smvN1Pbwj"
      },
      "source": [
        "# build the function for both compiling and training the model with validation\n",
        "\n",
        "def compile_and_train(block, num_epochs): \n",
        "    \n",
        "    block.compile(loss = \"categorical_crossentropy\", optimizer = optimizer, metrics = [\"accuracy\"])\n",
        "    history = block.fit(x_train, y_train, batch_size = batch_size, epochs = num_epochs, validation_split = validation_split, callbacks = [es])\n",
        "    \n",
        "    return history"
      ],
      "execution_count": 14,
      "outputs": []
    },
    {
      "cell_type": "code",
      "metadata": {
        "id": "2ivb8dA9KoJN"
      },
      "source": [
        "# Preparing data\n",
        "\n",
        "# load dataset\n",
        "data = np.load('/content/drive/MyDrive/Vision for Mobile Robitics Class/final_project/dataset_as_np/data.npy') \n",
        "labels = np.load('/content/drive/MyDrive/Vision for Mobile Robitics Class/final_project/dataset_as_np/labels.npy') \n",
        "\n",
        "# split to test and train\n",
        "x_train, x_test, y_train, y_test = train_test_split(data, labels, test_size = 0.1, random_state = 42)\n",
        "\n",
        "# delete large variables\n",
        "del data\n",
        "del labels"
      ],
      "execution_count": 15,
      "outputs": []
    },
    {
      "cell_type": "markdown",
      "metadata": {
        "id": "MvgeB8jnUHUm"
      },
      "source": [
        "# **2. Start training**"
      ]
    },
    {
      "cell_type": "markdown",
      "metadata": {
        "id": "3YpOPaOnUUGW"
      },
      "source": [
        "# **2.1) 0-9999 of train set**"
      ]
    },
    {
      "cell_type": "code",
      "metadata": {
        "colab": {
          "base_uri": "https://localhost:8080/"
        },
        "id": "lTHYC-ML_Ec1",
        "outputId": "893eccf9-a3c3-4fe4-ee04-34c9b1d36950"
      },
      "source": [
        "# training a model with sliced train_set\n",
        "\n",
        "slice_range = [0, 10000]\n",
        "\n",
        "# slice train set\n",
        "train_min, train_max = slice_range\n",
        "x_train = x_train[train_min : train_max]\n",
        "y_train = y_train[train_min : train_max]\n",
        "\n",
        "# normalize image pixcel values from [0, 255] to [0, 1]\n",
        "x_train = x_train.astype(\"float32\") / 255.\n",
        "x_test = x_test.astype(\"float32\") / 255.\n",
        "\n",
        "# # convert class vectors into one-hot encoded format\n",
        "y_train = keras.utils.to_categorical(y_train, num_classes)\n",
        "y_test = keras.utils.to_categorical(y_test, num_classes)\n",
        "\n",
        "# make sure images have the shape, (150, 150, 3)\n",
        "print(\"x_train shape:\", x_train.shape)\n",
        "print(\"y_train shape:\", y_train.shape)\n",
        "print(\"x_test shape:\", x_test.shape)\n",
        "print(\"y_test shape:\", y_test.shape)\n",
        "print(x_train.shape[0], \"train samples\")\n",
        "print(x_test.shape[0], \"test samples\")\n",
        "\n",
        "# compile & train\n",
        "history_1 = compile_and_train(model, num_epochs = training_epochs)\n",
        "\n",
        "# evaluate the trained model\n",
        "score = model.evaluate(x_test, y_test, verbose = 0)\n",
        "print(\"test loss of model:\", score[0])\n",
        "print(\"test accuracy of model:\", score[1])"
      ],
      "execution_count": 16,
      "outputs": [
        {
          "output_type": "stream",
          "name": "stdout",
          "text": [
            "x_train shape: (10000, 150, 150, 3)\n",
            "y_train shape: (10000, 43)\n",
            "x_test shape: (3921, 150, 150, 3)\n",
            "y_test shape: (3921, 43)\n",
            "10000 train samples\n",
            "3921 test samples\n",
            "Epoch 1/20\n",
            "71/71 [==============================] - 116s 2s/step - loss: 3.6473 - accuracy: 0.0579 - val_loss: 3.4914 - val_accuracy: 0.0590\n",
            "Epoch 2/20\n",
            "71/71 [==============================] - 117s 2s/step - loss: 3.4619 - accuracy: 0.0787 - val_loss: 3.4765 - val_accuracy: 0.0790\n",
            "Epoch 3/20\n",
            "71/71 [==============================] - 117s 2s/step - loss: 3.3411 - accuracy: 0.1304 - val_loss: 3.2814 - val_accuracy: 0.1670\n",
            "Epoch 4/20\n",
            "71/71 [==============================] - 117s 2s/step - loss: 3.0828 - accuracy: 0.2294 - val_loss: 2.7513 - val_accuracy: 0.3480\n",
            "Epoch 5/20\n",
            "71/71 [==============================] - 117s 2s/step - loss: 2.5504 - accuracy: 0.3561 - val_loss: 2.2862 - val_accuracy: 0.3880\n",
            "Epoch 6/20\n",
            "71/71 [==============================] - 117s 2s/step - loss: 2.0025 - accuracy: 0.4483 - val_loss: 1.9580 - val_accuracy: 0.4310\n",
            "Epoch 7/20\n",
            "71/71 [==============================] - 117s 2s/step - loss: 1.5359 - accuracy: 0.5622 - val_loss: 1.2243 - val_accuracy: 0.6020\n",
            "Epoch 8/20\n",
            "71/71 [==============================] - 117s 2s/step - loss: 1.1732 - accuracy: 0.6588 - val_loss: 1.5112 - val_accuracy: 0.5690\n",
            "Epoch 9/20\n",
            "71/71 [==============================] - 117s 2s/step - loss: 0.9187 - accuracy: 0.7299 - val_loss: 1.2473 - val_accuracy: 0.6360\n",
            "Epoch 10/20\n",
            "71/71 [==============================] - 117s 2s/step - loss: 0.7639 - accuracy: 0.7776 - val_loss: 2.8328 - val_accuracy: 0.5490\n",
            "Epoch 11/20\n",
            "71/71 [==============================] - 117s 2s/step - loss: 0.6625 - accuracy: 0.8089 - val_loss: 0.5060 - val_accuracy: 0.8680\n",
            "Epoch 12/20\n",
            "71/71 [==============================] - 117s 2s/step - loss: 0.5045 - accuracy: 0.8519 - val_loss: 0.7525 - val_accuracy: 0.7810\n",
            "Epoch 13/20\n",
            "71/71 [==============================] - 117s 2s/step - loss: 0.4204 - accuracy: 0.8729 - val_loss: 0.4355 - val_accuracy: 0.8800\n",
            "Epoch 14/20\n",
            "71/71 [==============================] - 118s 2s/step - loss: 0.3422 - accuracy: 0.8979 - val_loss: 0.3499 - val_accuracy: 0.9040\n",
            "Epoch 15/20\n",
            "71/71 [==============================] - 118s 2s/step - loss: 0.3109 - accuracy: 0.9049 - val_loss: 0.3799 - val_accuracy: 0.8940\n",
            "Epoch 16/20\n",
            "71/71 [==============================] - 118s 2s/step - loss: 0.2696 - accuracy: 0.9207 - val_loss: 0.3957 - val_accuracy: 0.8920\n",
            "Epoch 17/20\n",
            "71/71 [==============================] - 118s 2s/step - loss: 0.2359 - accuracy: 0.9283 - val_loss: 0.3780 - val_accuracy: 0.9080\n",
            "Epoch 18/20\n",
            "71/71 [==============================] - 118s 2s/step - loss: 0.2192 - accuracy: 0.9343 - val_loss: 0.3325 - val_accuracy: 0.9060\n",
            "Epoch 19/20\n",
            "71/71 [==============================] - 118s 2s/step - loss: 0.1944 - accuracy: 0.9413 - val_loss: 0.6304 - val_accuracy: 0.8640\n",
            "Epoch 20/20\n",
            "71/71 [==============================] - 118s 2s/step - loss: 0.1974 - accuracy: 0.9428 - val_loss: 0.3259 - val_accuracy: 0.9110\n",
            "test loss of model: 0.24077792465686798\n",
            "test accuracy of model: 0.9359857439994812\n"
          ]
        }
      ]
    },
    {
      "cell_type": "code",
      "metadata": {
        "colab": {
          "base_uri": "https://localhost:8080/"
        },
        "id": "suL8FtW_Ylbu",
        "outputId": "bc709aa7-8f9d-410e-ec1d-e08e066c52e4"
      },
      "source": [
        "# check point 1\n",
        "\n",
        "model.save('/content/model1')"
      ],
      "execution_count": 23,
      "outputs": [
        {
          "output_type": "stream",
          "name": "stdout",
          "text": [
            "INFO:tensorflow:Assets written to: /content/models/assets\n"
          ]
        }
      ]
    },
    {
      "cell_type": "code",
      "metadata": {
        "id": "Q9PpF7ZuGNuS"
      },
      "source": [
        "# create a function for combining scores\n",
        "\n",
        "def combine_score(acc, val_acc, loss, val_loss, history):\n",
        "\n",
        "  for a, va, l, vl in zip(history.history['accuracy'], history.history['val_accuracy'], history.history['loss'], history.history['val_loss']) :\n",
        "    acc.append(a)\n",
        "    val_acc.append(va)\n",
        "    loss.append(l)\n",
        "    val_loss.append(vl)"
      ],
      "execution_count": 17,
      "outputs": []
    },
    {
      "cell_type": "code",
      "metadata": {
        "id": "NOVChKhSFQWC"
      },
      "source": [
        "# prepare to combine scores\n",
        "\n",
        "acc = []\n",
        "val_acc = []\n",
        "loss = []\n",
        "val_loss = []"
      ],
      "execution_count": 18,
      "outputs": []
    },
    {
      "cell_type": "code",
      "metadata": {
        "id": "pj93_6zIHbPD"
      },
      "source": [
        "combine_score(acc, val_acc, loss, val_loss, history_1)"
      ],
      "execution_count": 19,
      "outputs": []
    },
    {
      "cell_type": "code",
      "metadata": {
        "id": "rnvEUBn2QflZ"
      },
      "source": [
        "# delete large variables\n",
        "del x_train\n",
        "del y_train\n",
        "del x_test\n",
        "del y_test"
      ],
      "execution_count": 20,
      "outputs": []
    },
    {
      "cell_type": "markdown",
      "metadata": {
        "id": "Olk1XXkYUkcG"
      },
      "source": [
        "# **2.2) 10000-19999 of train set**"
      ]
    },
    {
      "cell_type": "code",
      "metadata": {
        "id": "u0YEShkTQJJ0"
      },
      "source": [
        "# Preparing data\n",
        "\n",
        "# load dataset\n",
        "data = np.load('/content/drive/MyDrive/Vision for Mobile Robitics Class/final_project/dataset_as_np/data.npy') \n",
        "labels = np.load('/content/drive/MyDrive/Vision for Mobile Robitics Class/final_project/dataset_as_np/labels.npy') \n",
        "\n",
        "# split to test and train\n",
        "x_train, x_test, y_train, y_test = train_test_split(data, labels, test_size = 0.1, random_state = 42)\n",
        "\n",
        "# delete large variables\n",
        "del data\n",
        "del labels"
      ],
      "execution_count": 24,
      "outputs": []
    },
    {
      "cell_type": "code",
      "metadata": {
        "colab": {
          "base_uri": "https://localhost:8080/"
        },
        "id": "yDN-x3DRQQ4H",
        "outputId": "38d2f99c-0563-4509-e63f-f490a08fb980"
      },
      "source": [
        "# continue training - 2nd time\n",
        "# training a model with sliced train_set\n",
        "\n",
        "slice_range = [10000, 20000]\n",
        "\n",
        "# slice train set\n",
        "train_min, train_max = slice_range\n",
        "x_train = x_train[train_min : train_max]\n",
        "y_train = y_train[train_min : train_max]\n",
        "\n",
        "# normalize image pixcel values from [0, 255] to [0, 1]\n",
        "x_train = x_train.astype(\"float32\") / 255.\n",
        "x_test = x_test.astype(\"float32\") / 255.\n",
        "\n",
        "# # convert class vectors into one-hot encoded format\n",
        "y_train = keras.utils.to_categorical(y_train, num_classes)\n",
        "y_test = keras.utils.to_categorical(y_test, num_classes)\n",
        "\n",
        "# make sure images have the shape, (150, 150, 3)\n",
        "print(\"x_train shape:\", x_train.shape)\n",
        "print(\"y_train shape:\", y_train.shape)\n",
        "print(\"x_test shape:\", x_test.shape)\n",
        "print(\"y_test shape:\", y_test.shape)\n",
        "print(x_train.shape[0], \"train samples\")\n",
        "print(x_test.shape[0], \"test samples\")\n",
        "\n",
        "# compile & train\n",
        "history_2 = compile_and_train(model, num_epochs = training_epochs)\n",
        "\n",
        "# evaluate the trained model\n",
        "score = model.evaluate(x_test, y_test, verbose = 0)\n",
        "print(\"test loss of model:\", score[0])\n",
        "print(\"test accuracy of model:\", score[1])"
      ],
      "execution_count": 25,
      "outputs": [
        {
          "output_type": "stream",
          "name": "stdout",
          "text": [
            "x_train shape: (10000, 150, 150, 3)\n",
            "y_train shape: (10000, 43)\n",
            "x_test shape: (3921, 150, 150, 3)\n",
            "y_test shape: (3921, 43)\n",
            "10000 train samples\n",
            "3921 test samples\n",
            "Epoch 1/20\n",
            "71/71 [==============================] - 120s 2s/step - loss: 0.3630 - accuracy: 0.9003 - val_loss: 0.3036 - val_accuracy: 0.9190\n",
            "Epoch 2/20\n",
            "71/71 [==============================] - 120s 2s/step - loss: 0.2738 - accuracy: 0.9220 - val_loss: 0.2084 - val_accuracy: 0.9480\n",
            "Epoch 3/20\n",
            "71/71 [==============================] - 120s 2s/step - loss: 0.2310 - accuracy: 0.9363 - val_loss: 0.2017 - val_accuracy: 0.9560\n",
            "Epoch 4/20\n",
            "71/71 [==============================] - 120s 2s/step - loss: 0.2006 - accuracy: 0.9424 - val_loss: 0.2292 - val_accuracy: 0.9420\n",
            "Epoch 5/20\n",
            "71/71 [==============================] - 120s 2s/step - loss: 0.1880 - accuracy: 0.9467 - val_loss: 0.2708 - val_accuracy: 0.9300\n",
            "Epoch 6/20\n",
            "71/71 [==============================] - 120s 2s/step - loss: 0.1628 - accuracy: 0.9514 - val_loss: 0.2329 - val_accuracy: 0.9380\n",
            "Epoch 7/20\n",
            "71/71 [==============================] - 120s 2s/step - loss: 0.1494 - accuracy: 0.9572 - val_loss: 0.1793 - val_accuracy: 0.9610\n",
            "Epoch 8/20\n",
            "71/71 [==============================] - 120s 2s/step - loss: 0.1338 - accuracy: 0.9632 - val_loss: 0.2233 - val_accuracy: 0.9470\n",
            "Epoch 9/20\n",
            "71/71 [==============================] - 120s 2s/step - loss: 0.1318 - accuracy: 0.9609 - val_loss: 0.1988 - val_accuracy: 0.9580\n",
            "Epoch 10/20\n",
            "71/71 [==============================] - 121s 2s/step - loss: 0.1129 - accuracy: 0.9667 - val_loss: 0.1800 - val_accuracy: 0.9570\n",
            "Epoch 11/20\n",
            "71/71 [==============================] - 121s 2s/step - loss: 0.1037 - accuracy: 0.9699 - val_loss: 0.1492 - val_accuracy: 0.9640\n",
            "Epoch 12/20\n",
            "71/71 [==============================] - 121s 2s/step - loss: 0.0894 - accuracy: 0.9732 - val_loss: 0.2139 - val_accuracy: 0.9550\n",
            "Epoch 13/20\n",
            "71/71 [==============================] - 121s 2s/step - loss: 0.0879 - accuracy: 0.9753 - val_loss: 0.1855 - val_accuracy: 0.9600\n",
            "Epoch 14/20\n",
            "71/71 [==============================] - 121s 2s/step - loss: 0.0834 - accuracy: 0.9750 - val_loss: 0.1576 - val_accuracy: 0.9700\n",
            "Epoch 15/20\n",
            "71/71 [==============================] - 121s 2s/step - loss: 0.0735 - accuracy: 0.9776 - val_loss: 0.1569 - val_accuracy: 0.9660\n",
            "Epoch 16/20\n",
            "71/71 [==============================] - 120s 2s/step - loss: 0.0710 - accuracy: 0.9794 - val_loss: 0.1607 - val_accuracy: 0.9730\n",
            "Epoch 17/20\n",
            "71/71 [==============================] - 121s 2s/step - loss: 0.0668 - accuracy: 0.9792 - val_loss: 0.1680 - val_accuracy: 0.9610\n",
            "Epoch 18/20\n",
            "71/71 [==============================] - 122s 2s/step - loss: 0.0692 - accuracy: 0.9783 - val_loss: 0.1694 - val_accuracy: 0.9700\n",
            "Epoch 19/20\n",
            "71/71 [==============================] - 121s 2s/step - loss: 0.0543 - accuracy: 0.9838 - val_loss: 0.1744 - val_accuracy: 0.9670\n",
            "Epoch 20/20\n",
            "71/71 [==============================] - 121s 2s/step - loss: 0.0590 - accuracy: 0.9821 - val_loss: 0.1715 - val_accuracy: 0.9670\n",
            "test loss of model: 0.12357120215892792\n",
            "test accuracy of model: 0.974751353263855\n"
          ]
        }
      ]
    },
    {
      "cell_type": "code",
      "metadata": {
        "colab": {
          "base_uri": "https://localhost:8080/"
        },
        "id": "JggMMkCTY1c5",
        "outputId": "8fcb2d16-00a4-45c0-c7b0-c544547e5511"
      },
      "source": [
        "# check point 2\n",
        "\n",
        "model.save('/content/model2')"
      ],
      "execution_count": 26,
      "outputs": [
        {
          "output_type": "stream",
          "name": "stdout",
          "text": [
            "INFO:tensorflow:Assets written to: /content/model2/assets\n"
          ]
        }
      ]
    },
    {
      "cell_type": "code",
      "metadata": {
        "id": "-lnoisieQX-V"
      },
      "source": [
        "combine_score(acc, val_acc, loss, val_loss, history_2)"
      ],
      "execution_count": 27,
      "outputs": []
    },
    {
      "cell_type": "code",
      "metadata": {
        "id": "MGcStog6RbVQ"
      },
      "source": [
        "# delete large variables\n",
        "del x_train\n",
        "del y_train\n",
        "del x_test\n",
        "del y_test"
      ],
      "execution_count": 28,
      "outputs": []
    },
    {
      "cell_type": "markdown",
      "metadata": {
        "id": "H4ksduTTU-_9"
      },
      "source": [
        "# **2.3) 20000-29999 of train set**"
      ]
    },
    {
      "cell_type": "code",
      "metadata": {
        "id": "ZiFeR_mum1Ap"
      },
      "source": [
        "# Preparing data\n",
        "\n",
        "# load dataset\n",
        "data = np.load('/content/drive/MyDrive/Vision for Mobile Robitics Class/final_project/dataset_as_np/data.npy') \n",
        "labels = np.load('/content/drive/MyDrive/Vision for Mobile Robitics Class/final_project/dataset_as_np/labels.npy') \n",
        "\n",
        "# split to test and train\n",
        "x_train, x_test, y_train, y_test = train_test_split(data, labels, test_size = 0.1, random_state = 42)\n",
        "\n",
        "# delete large variables\n",
        "del data\n",
        "del labels"
      ],
      "execution_count": 29,
      "outputs": []
    },
    {
      "cell_type": "code",
      "metadata": {
        "colab": {
          "base_uri": "https://localhost:8080/"
        },
        "id": "lXWSpoWQm4bF",
        "outputId": "4784837f-628f-470a-f79e-53b15e3c8fd7"
      },
      "source": [
        "# continue training - 2nd time\n",
        "# training a model with sliced train_set\n",
        "\n",
        "slice_range = [20000, 30000]\n",
        "\n",
        "# slice train set\n",
        "train_min, train_max = slice_range\n",
        "x_train = x_train[train_min : train_max]\n",
        "y_train = y_train[train_min : train_max]\n",
        "\n",
        "# normalize image pixcel values from [0, 255] to [0, 1]\n",
        "x_train = x_train.astype(\"float32\") / 255.\n",
        "x_test = x_test.astype(\"float32\") / 255.\n",
        "\n",
        "# # convert class vectors into one-hot encoded format\n",
        "y_train = keras.utils.to_categorical(y_train, num_classes)\n",
        "y_test = keras.utils.to_categorical(y_test, num_classes)\n",
        "\n",
        "# make sure images have the shape, (150, 150, 3)\n",
        "print(\"x_train shape:\", x_train.shape)\n",
        "print(\"y_train shape:\", y_train.shape)\n",
        "print(\"x_test shape:\", x_test.shape)\n",
        "print(\"y_test shape:\", y_test.shape)\n",
        "print(x_train.shape[0], \"train samples\")\n",
        "print(x_test.shape[0], \"test samples\")\n",
        "\n",
        "# compile & train\n",
        "history_3 = compile_and_train(model, num_epochs = training_epochs)\n",
        "\n",
        "# evaluate the trained model\n",
        "score = model.evaluate(x_test, y_test, verbose = 0)\n",
        "print(\"test loss of model:\", score[0])\n",
        "print(\"test accuracy of model:\", score[1])"
      ],
      "execution_count": 30,
      "outputs": [
        {
          "output_type": "stream",
          "name": "stdout",
          "text": [
            "x_train shape: (10000, 150, 150, 3)\n",
            "y_train shape: (10000, 43)\n",
            "x_test shape: (3921, 150, 150, 3)\n",
            "y_test shape: (3921, 43)\n",
            "10000 train samples\n",
            "3921 test samples\n",
            "Epoch 1/20\n",
            "71/71 [==============================] - 122s 2s/step - loss: 0.2303 - accuracy: 0.9418 - val_loss: 0.2494 - val_accuracy: 0.9470\n",
            "Epoch 2/20\n",
            "71/71 [==============================] - 121s 2s/step - loss: 0.1679 - accuracy: 0.9520 - val_loss: 0.2050 - val_accuracy: 0.9480\n",
            "Epoch 3/20\n",
            "71/71 [==============================] - 122s 2s/step - loss: 0.1335 - accuracy: 0.9656 - val_loss: 0.1164 - val_accuracy: 0.9730\n",
            "Epoch 4/20\n",
            "71/71 [==============================] - 121s 2s/step - loss: 0.1033 - accuracy: 0.9697 - val_loss: 0.1101 - val_accuracy: 0.9770\n",
            "Epoch 5/20\n",
            "71/71 [==============================] - 121s 2s/step - loss: 0.0936 - accuracy: 0.9716 - val_loss: 0.1209 - val_accuracy: 0.9670\n",
            "Epoch 6/20\n",
            "71/71 [==============================] - 121s 2s/step - loss: 0.0940 - accuracy: 0.9758 - val_loss: 0.0977 - val_accuracy: 0.9780\n",
            "Epoch 7/20\n",
            "71/71 [==============================] - 121s 2s/step - loss: 0.0763 - accuracy: 0.9758 - val_loss: 0.0991 - val_accuracy: 0.9800\n",
            "Epoch 8/20\n",
            "71/71 [==============================] - 121s 2s/step - loss: 0.0711 - accuracy: 0.9784 - val_loss: 0.1235 - val_accuracy: 0.9700\n",
            "Epoch 9/20\n",
            "71/71 [==============================] - 122s 2s/step - loss: 0.0602 - accuracy: 0.9812 - val_loss: 0.1127 - val_accuracy: 0.9730\n",
            "Epoch 10/20\n",
            "71/71 [==============================] - 121s 2s/step - loss: 0.0608 - accuracy: 0.9810 - val_loss: 0.0929 - val_accuracy: 0.9780\n",
            "Epoch 11/20\n",
            "71/71 [==============================] - 122s 2s/step - loss: 0.0509 - accuracy: 0.9848 - val_loss: 0.1563 - val_accuracy: 0.9630\n",
            "Epoch 12/20\n",
            "71/71 [==============================] - 121s 2s/step - loss: 0.0540 - accuracy: 0.9839 - val_loss: 0.0933 - val_accuracy: 0.9810\n",
            "Epoch 13/20\n",
            "71/71 [==============================] - 121s 2s/step - loss: 0.0443 - accuracy: 0.9864 - val_loss: 0.0907 - val_accuracy: 0.9800\n",
            "Epoch 14/20\n",
            "71/71 [==============================] - 121s 2s/step - loss: 0.0424 - accuracy: 0.9866 - val_loss: 0.1646 - val_accuracy: 0.9580\n",
            "Epoch 15/20\n",
            "71/71 [==============================] - 122s 2s/step - loss: 0.0561 - accuracy: 0.9857 - val_loss: 0.1047 - val_accuracy: 0.9770\n",
            "Epoch 16/20\n",
            "71/71 [==============================] - 121s 2s/step - loss: 0.0399 - accuracy: 0.9892 - val_loss: 0.1221 - val_accuracy: 0.9680\n",
            "Epoch 17/20\n",
            "71/71 [==============================] - 122s 2s/step - loss: 0.0464 - accuracy: 0.9866 - val_loss: 0.0967 - val_accuracy: 0.9790\n",
            "Epoch 18/20\n",
            "71/71 [==============================] - 122s 2s/step - loss: 0.0368 - accuracy: 0.9880 - val_loss: 0.1049 - val_accuracy: 0.9780\n",
            "Epoch 19/20\n",
            "71/71 [==============================] - 122s 2s/step - loss: 0.0484 - accuracy: 0.9860 - val_loss: 0.1072 - val_accuracy: 0.9790\n",
            "Epoch 20/20\n",
            "71/71 [==============================] - 121s 2s/step - loss: 0.0394 - accuracy: 0.9881 - val_loss: 0.2505 - val_accuracy: 0.9440\n",
            "test loss of model: 0.25897616147994995\n",
            "test accuracy of model: 0.9387910962104797\n"
          ]
        }
      ]
    },
    {
      "cell_type": "code",
      "metadata": {
        "colab": {
          "base_uri": "https://localhost:8080/"
        },
        "id": "tP-C6gbpZB9-",
        "outputId": "6338d6a8-4de1-4eed-cd3a-f07a8049ff55"
      },
      "source": [
        "# check point 3\n",
        "\n",
        "model.save('/content/model3')"
      ],
      "execution_count": 31,
      "outputs": [
        {
          "output_type": "stream",
          "name": "stdout",
          "text": [
            "INFO:tensorflow:Assets written to: /content/model3/assets\n"
          ]
        }
      ]
    },
    {
      "cell_type": "code",
      "metadata": {
        "id": "oEZ5faPrm-5q"
      },
      "source": [
        "combine_score(acc, val_acc, loss, val_loss, history_3)"
      ],
      "execution_count": 32,
      "outputs": []
    },
    {
      "cell_type": "code",
      "metadata": {
        "id": "Q4LZdgtwnFBN"
      },
      "source": [
        "# delete large variables\n",
        "del x_train\n",
        "del y_train\n",
        "del x_test\n",
        "del y_test"
      ],
      "execution_count": 33,
      "outputs": []
    },
    {
      "cell_type": "markdown",
      "metadata": {
        "id": "nLONrmM8VLuX"
      },
      "source": [
        "# **2.4) 30000-Last of train set**"
      ]
    },
    {
      "cell_type": "code",
      "metadata": {
        "id": "7U9zvlACnY34"
      },
      "source": [
        "# Preparing data\n",
        "\n",
        "# load dataset\n",
        "data = np.load('/content/drive/MyDrive/Vision for Mobile Robitics Class/final_project/dataset_as_np/data.npy') \n",
        "labels = np.load('/content/drive/MyDrive/Vision for Mobile Robitics Class/final_project/dataset_as_np/labels.npy') \n",
        "\n",
        "# split to test and train\n",
        "x_train, x_test, y_train, y_test = train_test_split(data, labels, test_size = 0.1, random_state = 42)\n",
        "\n",
        "# delete large variables\n",
        "del data\n",
        "del labels"
      ],
      "execution_count": 34,
      "outputs": []
    },
    {
      "cell_type": "code",
      "metadata": {
        "colab": {
          "base_uri": "https://localhost:8080/"
        },
        "id": "JiEVcl5-nY34",
        "outputId": "e931ae99-9e1c-4fa9-99c5-62fb06a03912"
      },
      "source": [
        "# continue training - 2nd time\n",
        "# training a model with sliced train_set\n",
        "\n",
        "slice_range = [30000, -1]\n",
        "\n",
        "# slice train set\n",
        "train_min, train_max = slice_range\n",
        "x_train = x_train[train_min : ]\n",
        "y_train = y_train[train_min : ]\n",
        "\n",
        "# normalize image pixcel values from [0, 255] to [0, 1]\n",
        "x_train = x_train.astype(\"float32\") / 255.\n",
        "x_test = x_test.astype(\"float32\") / 255.\n",
        "\n",
        "# # convert class vectors into one-hot encoded format\n",
        "y_train = keras.utils.to_categorical(y_train, num_classes)\n",
        "y_test = keras.utils.to_categorical(y_test, num_classes)\n",
        "\n",
        "# make sure images have the shape, (150, 150, 3)\n",
        "print(\"x_train shape:\", x_train.shape)\n",
        "print(\"y_train shape:\", y_train.shape)\n",
        "print(\"x_test shape:\", x_test.shape)\n",
        "print(\"y_test shape:\", y_test.shape)\n",
        "print(x_train.shape[0], \"train samples\")\n",
        "print(x_test.shape[0], \"test samples\")\n",
        "\n",
        "# compile & train\n",
        "history_4 = compile_and_train(model, num_epochs = training_epochs)\n",
        "\n",
        "# evaluate the trained model\n",
        "score = model.evaluate(x_test, y_test, verbose = 0)\n",
        "print(\"test loss of model:\", score[0])\n",
        "print(\"test accuracy of model:\", score[1])"
      ],
      "execution_count": 35,
      "outputs": [
        {
          "output_type": "stream",
          "name": "stdout",
          "text": [
            "x_train shape: (5288, 150, 150, 3)\n",
            "y_train shape: (5288, 43)\n",
            "x_test shape: (3921, 150, 150, 3)\n",
            "y_test shape: (3921, 43)\n",
            "5288 train samples\n",
            "3921 test samples\n",
            "Epoch 1/20\n",
            "38/38 [==============================] - 65s 2s/step - loss: 0.1900 - accuracy: 0.9534 - val_loss: 0.0925 - val_accuracy: 0.9735\n",
            "Epoch 2/20\n",
            "38/38 [==============================] - 64s 2s/step - loss: 0.1362 - accuracy: 0.9605 - val_loss: 0.1564 - val_accuracy: 0.9527\n",
            "Epoch 3/20\n",
            "38/38 [==============================] - 64s 2s/step - loss: 0.1003 - accuracy: 0.9708 - val_loss: 0.7606 - val_accuracy: 0.8639\n",
            "Epoch 4/20\n",
            "38/38 [==============================] - 64s 2s/step - loss: 0.1279 - accuracy: 0.9620 - val_loss: 0.5194 - val_accuracy: 0.8828\n",
            "Epoch 5/20\n",
            "38/38 [==============================] - 65s 2s/step - loss: 0.1274 - accuracy: 0.9676 - val_loss: 0.0698 - val_accuracy: 0.9735\n",
            "Epoch 6/20\n",
            "38/38 [==============================] - 65s 2s/step - loss: 0.0678 - accuracy: 0.9794 - val_loss: 0.0716 - val_accuracy: 0.9754\n",
            "Epoch 7/20\n",
            "38/38 [==============================] - 64s 2s/step - loss: 0.0508 - accuracy: 0.9847 - val_loss: 0.0587 - val_accuracy: 0.9735\n",
            "Epoch 8/20\n",
            "38/38 [==============================] - 65s 2s/step - loss: 0.0477 - accuracy: 0.9857 - val_loss: 0.0702 - val_accuracy: 0.9735\n",
            "Epoch 9/20\n",
            "38/38 [==============================] - 65s 2s/step - loss: 0.0476 - accuracy: 0.9872 - val_loss: 0.1842 - val_accuracy: 0.9509\n",
            "Epoch 10/20\n",
            "38/38 [==============================] - 65s 2s/step - loss: 0.0570 - accuracy: 0.9813 - val_loss: 0.0676 - val_accuracy: 0.9698\n",
            "Epoch 11/20\n",
            "38/38 [==============================] - 64s 2s/step - loss: 0.0546 - accuracy: 0.9823 - val_loss: 0.0679 - val_accuracy: 0.9716\n",
            "Epoch 12/20\n",
            "38/38 [==============================] - 65s 2s/step - loss: 0.0434 - accuracy: 0.9855 - val_loss: 0.0840 - val_accuracy: 0.9716\n",
            "Epoch 13/20\n",
            "38/38 [==============================] - 64s 2s/step - loss: 0.0411 - accuracy: 0.9876 - val_loss: 0.0981 - val_accuracy: 0.9660\n",
            "Epoch 14/20\n",
            "38/38 [==============================] - 64s 2s/step - loss: 0.0343 - accuracy: 0.9901 - val_loss: 0.0908 - val_accuracy: 0.9698\n",
            "Epoch 15/20\n",
            "38/38 [==============================] - 65s 2s/step - loss: 0.0315 - accuracy: 0.9901 - val_loss: 0.0669 - val_accuracy: 0.9754\n",
            "Epoch 16/20\n",
            "38/38 [==============================] - 65s 2s/step - loss: 0.0308 - accuracy: 0.9910 - val_loss: 0.0642 - val_accuracy: 0.9773\n",
            "Epoch 17/20\n",
            "38/38 [==============================] - 65s 2s/step - loss: 0.0289 - accuracy: 0.9922 - val_loss: 0.0968 - val_accuracy: 0.9641\n",
            "Epoch 00017: early stopping\n",
            "test loss of model: 0.08077684789896011\n",
            "test accuracy of model: 0.9831675887107849\n"
          ]
        }
      ]
    },
    {
      "cell_type": "code",
      "metadata": {
        "id": "O7wtnbianY34"
      },
      "source": [
        "combine_score(acc, val_acc, loss, val_loss, history_4)"
      ],
      "execution_count": 37,
      "outputs": []
    },
    {
      "cell_type": "code",
      "metadata": {
        "id": "0YM6SmeRnY35"
      },
      "source": [
        "# delete large variables\n",
        "del x_train\n",
        "del y_train\n",
        "#del x_test\n",
        "#del y_test"
      ],
      "execution_count": 38,
      "outputs": []
    },
    {
      "cell_type": "code",
      "metadata": {
        "colab": {
          "base_uri": "https://localhost:8080/"
        },
        "id": "tLMVLaxuZDQk",
        "outputId": "3c27bb45-6f22-4378-98d7-25a8407e6e7d"
      },
      "source": [
        "# check point 4\n",
        "\n",
        "model.save('/content/model4')"
      ],
      "execution_count": 39,
      "outputs": [
        {
          "output_type": "stream",
          "name": "stdout",
          "text": [
            "INFO:tensorflow:Assets written to: /content/model4/assets\n"
          ]
        }
      ]
    },
    {
      "cell_type": "markdown",
      "metadata": {
        "id": "FZIvB-bgnz5y"
      },
      "source": [
        "**Download model.zip**"
      ]
    },
    {
      "cell_type": "code",
      "metadata": {
        "colab": {
          "base_uri": "https://localhost:8080/"
        },
        "id": "AT2hUrkfn72G",
        "outputId": "eb018f66-a610-417f-9416-2988c3a2372c"
      },
      "source": [
        "# zip /content/model to /content/model.zip\n",
        "\n",
        "!zip -r /content/model1.zip /content/model1\n",
        "!zip -r /content/model2.zip /content/model2\n",
        "#!zip -r /content/model3.zip /content/model3\n",
        "!zip -r /content/model4.zip /content/model4"
      ],
      "execution_count": 40,
      "outputs": [
        {
          "output_type": "stream",
          "name": "stdout",
          "text": [
            "  adding: content/model1/ (stored 0%)\n",
            "  adding: content/model1/assets/ (stored 0%)\n",
            "  adding: content/model1/variables/ (stored 0%)\n",
            "  adding: content/model1/variables/variables.data-00000-of-00001 (deflated 8%)\n",
            "  adding: content/model1/variables/variables.index (deflated 58%)\n",
            "  adding: content/model1/saved_model.pb (deflated 89%)\n",
            "  adding: content/model1/keras_metadata.pb (deflated 93%)\n",
            "  adding: content/model2/ (stored 0%)\n",
            "  adding: content/model2/assets/ (stored 0%)\n",
            "  adding: content/model2/variables/ (stored 0%)\n",
            "  adding: content/model2/variables/variables.data-00000-of-00001 (deflated 8%)\n",
            "  adding: content/model2/variables/variables.index (deflated 58%)\n",
            "  adding: content/model2/saved_model.pb (deflated 89%)\n",
            "  adding: content/model2/keras_metadata.pb (deflated 93%)\n",
            "  adding: content/model4/ (stored 0%)\n",
            "  adding: content/model4/assets/ (stored 0%)\n",
            "  adding: content/model4/variables/ (stored 0%)\n",
            "  adding: content/model4/variables/variables.data-00000-of-00001 (deflated 8%)\n",
            "  adding: content/model4/variables/variables.index (deflated 58%)\n",
            "  adding: content/model4/saved_model.pb (deflated 89%)\n",
            "  adding: content/model4/keras_metadata.pb (deflated 93%)\n"
          ]
        }
      ]
    },
    {
      "cell_type": "code",
      "metadata": {
        "colab": {
          "base_uri": "https://localhost:8080/",
          "height": 17
        },
        "id": "FqAej4JA5T_M",
        "outputId": "8835b65f-131e-482a-f42f-a7faab420726"
      },
      "source": [
        "# download the zip file\n",
        "\n",
        "from google.colab import files\n",
        "\n",
        "files.download(\"/content/model1.zip\")\n",
        "files.download(\"/content/model2.zip\")\n",
        "#files.download(\"/content/model3.zip\")\n",
        "files.download(\"/content/model4.zip\")"
      ],
      "execution_count": 43,
      "outputs": [
        {
          "output_type": "display_data",
          "data": {
            "application/javascript": [
              "\n",
              "    async function download(id, filename, size) {\n",
              "      if (!google.colab.kernel.accessAllowed) {\n",
              "        return;\n",
              "      }\n",
              "      const div = document.createElement('div');\n",
              "      const label = document.createElement('label');\n",
              "      label.textContent = `Downloading \"${filename}\": `;\n",
              "      div.appendChild(label);\n",
              "      const progress = document.createElement('progress');\n",
              "      progress.max = size;\n",
              "      div.appendChild(progress);\n",
              "      document.body.appendChild(div);\n",
              "\n",
              "      const buffers = [];\n",
              "      let downloaded = 0;\n",
              "\n",
              "      const channel = await google.colab.kernel.comms.open(id);\n",
              "      // Send a message to notify the kernel that we're ready.\n",
              "      channel.send({})\n",
              "\n",
              "      for await (const message of channel.messages) {\n",
              "        // Send a message to notify the kernel that we're ready.\n",
              "        channel.send({})\n",
              "        if (message.buffers) {\n",
              "          for (const buffer of message.buffers) {\n",
              "            buffers.push(buffer);\n",
              "            downloaded += buffer.byteLength;\n",
              "            progress.value = downloaded;\n",
              "          }\n",
              "        }\n",
              "      }\n",
              "      const blob = new Blob(buffers, {type: 'application/binary'});\n",
              "      const a = document.createElement('a');\n",
              "      a.href = window.URL.createObjectURL(blob);\n",
              "      a.download = filename;\n",
              "      div.appendChild(a);\n",
              "      a.click();\n",
              "      div.remove();\n",
              "    }\n",
              "  "
            ],
            "text/plain": [
              "<IPython.core.display.Javascript object>"
            ]
          },
          "metadata": {}
        },
        {
          "output_type": "display_data",
          "data": {
            "application/javascript": [
              "download(\"download_cbab66b4-dba7-4f46-8bc9-dcb15661b066\", \"model1.zip\", 56216561)"
            ],
            "text/plain": [
              "<IPython.core.display.Javascript object>"
            ]
          },
          "metadata": {}
        },
        {
          "output_type": "display_data",
          "data": {
            "application/javascript": [
              "\n",
              "    async function download(id, filename, size) {\n",
              "      if (!google.colab.kernel.accessAllowed) {\n",
              "        return;\n",
              "      }\n",
              "      const div = document.createElement('div');\n",
              "      const label = document.createElement('label');\n",
              "      label.textContent = `Downloading \"${filename}\": `;\n",
              "      div.appendChild(label);\n",
              "      const progress = document.createElement('progress');\n",
              "      progress.max = size;\n",
              "      div.appendChild(progress);\n",
              "      document.body.appendChild(div);\n",
              "\n",
              "      const buffers = [];\n",
              "      let downloaded = 0;\n",
              "\n",
              "      const channel = await google.colab.kernel.comms.open(id);\n",
              "      // Send a message to notify the kernel that we're ready.\n",
              "      channel.send({})\n",
              "\n",
              "      for await (const message of channel.messages) {\n",
              "        // Send a message to notify the kernel that we're ready.\n",
              "        channel.send({})\n",
              "        if (message.buffers) {\n",
              "          for (const buffer of message.buffers) {\n",
              "            buffers.push(buffer);\n",
              "            downloaded += buffer.byteLength;\n",
              "            progress.value = downloaded;\n",
              "          }\n",
              "        }\n",
              "      }\n",
              "      const blob = new Blob(buffers, {type: 'application/binary'});\n",
              "      const a = document.createElement('a');\n",
              "      a.href = window.URL.createObjectURL(blob);\n",
              "      a.download = filename;\n",
              "      div.appendChild(a);\n",
              "      a.click();\n",
              "      div.remove();\n",
              "    }\n",
              "  "
            ],
            "text/plain": [
              "<IPython.core.display.Javascript object>"
            ]
          },
          "metadata": {}
        },
        {
          "output_type": "display_data",
          "data": {
            "application/javascript": [
              "download(\"download_5f5d3943-1d79-4bcb-9abf-079e6428855c\", \"model2.zip\", 56228278)"
            ],
            "text/plain": [
              "<IPython.core.display.Javascript object>"
            ]
          },
          "metadata": {}
        },
        {
          "output_type": "display_data",
          "data": {
            "application/javascript": [
              "\n",
              "    async function download(id, filename, size) {\n",
              "      if (!google.colab.kernel.accessAllowed) {\n",
              "        return;\n",
              "      }\n",
              "      const div = document.createElement('div');\n",
              "      const label = document.createElement('label');\n",
              "      label.textContent = `Downloading \"${filename}\": `;\n",
              "      div.appendChild(label);\n",
              "      const progress = document.createElement('progress');\n",
              "      progress.max = size;\n",
              "      div.appendChild(progress);\n",
              "      document.body.appendChild(div);\n",
              "\n",
              "      const buffers = [];\n",
              "      let downloaded = 0;\n",
              "\n",
              "      const channel = await google.colab.kernel.comms.open(id);\n",
              "      // Send a message to notify the kernel that we're ready.\n",
              "      channel.send({})\n",
              "\n",
              "      for await (const message of channel.messages) {\n",
              "        // Send a message to notify the kernel that we're ready.\n",
              "        channel.send({})\n",
              "        if (message.buffers) {\n",
              "          for (const buffer of message.buffers) {\n",
              "            buffers.push(buffer);\n",
              "            downloaded += buffer.byteLength;\n",
              "            progress.value = downloaded;\n",
              "          }\n",
              "        }\n",
              "      }\n",
              "      const blob = new Blob(buffers, {type: 'application/binary'});\n",
              "      const a = document.createElement('a');\n",
              "      a.href = window.URL.createObjectURL(blob);\n",
              "      a.download = filename;\n",
              "      div.appendChild(a);\n",
              "      a.click();\n",
              "      div.remove();\n",
              "    }\n",
              "  "
            ],
            "text/plain": [
              "<IPython.core.display.Javascript object>"
            ]
          },
          "metadata": {}
        },
        {
          "output_type": "display_data",
          "data": {
            "application/javascript": [
              "download(\"download_45725606-0a09-45ec-8a94-979c44d4d777\", \"model4.zip\", 56238790)"
            ],
            "text/plain": [
              "<IPython.core.display.Javascript object>"
            ]
          },
          "metadata": {}
        }
      ]
    },
    {
      "cell_type": "markdown",
      "metadata": {
        "id": "Lw6OnFKWUrFI"
      },
      "source": [
        "# **3. Evaluation graph**"
      ]
    },
    {
      "cell_type": "code",
      "metadata": {
        "colab": {
          "base_uri": "https://localhost:8080/",
          "height": 369
        },
        "id": "PXwPE1LuSZST",
        "outputId": "b9b90abb-3a81-4037-8d73-17609a27227d"
      },
      "source": [
        "# graph of all history\n",
        "\n",
        "title = 'Full history: '\n",
        "\n",
        "fig, axs = plt.subplots(1, 2, figsize=(10, 5))\n",
        "\n",
        "axs[0].plot(acc)\n",
        "axs[0].plot(val_acc)\n",
        "axs[0].set_title(title + ' accuracy')\n",
        "axs[0].set_ylabel('accuracy')\n",
        "axs[0].legend(['train', 'test'], loc ='lower right')\n",
        "\n",
        "# summarize the history of loss\n",
        "\n",
        "axs[1].plot(loss)\n",
        "axs[1].plot(val_loss)\n",
        "axs[1].set_title(title + ' loss')\n",
        "axs[1].set_ylabel('loss')\n",
        "axs[1].legend(['train', 'test'], loc ='upper right')\n",
        "\n",
        "fig.tight_layout()"
      ],
      "execution_count": 41,
      "outputs": [
        {
          "output_type": "display_data",
          "data": {
            "image/png": "[encoded data removed]",
            "text/plain": [
              "<Figure size 720x360 with 2 Axes>"
            ]
          },
          "metadata": {
            "needs_background": "light"
          }
        }
      ]
    },
    {
      "cell_type": "code",
      "metadata": {
        "colab": {
          "base_uri": "https://localhost:8080/"
        },
        "id": "fn0N7Hv7Ad66",
        "outputId": "7cfe3645-35aa-4e3f-e678-76140f417ad9"
      },
      "source": [
        "# show variables memory usage\n",
        "\n",
        "for name, size in sorted(((name, sys.getsizeof(value)) for name, value in locals().items()),\n",
        "                         key= lambda x: -x[1])[:10]:\n",
        "    print(\"{:>30}: {:>8}\".format(name, sizeof_fmt(size)))"
      ],
      "execution_count": 42,
      "outputs": [
        {
          "output_type": "stream",
          "name": "stdout",
          "text": [
            "                        x_test: 1009.6 MiB\n",
            "                 EarlyStopping:  1.4 KiB\n",
            "                          _i13:  1.2 KiB\n",
            "                          _i25:  1.1 KiB\n",
            "                          _i30:  1.1 KiB\n",
            "                          _i35:  1.1 KiB\n",
            "                          _i16:  1.1 KiB\n",
            "                  MaxPooling2D:  1.0 KiB\n",
            "                    Activation:  1.0 KiB\n",
            "                       Average:  1.0 KiB\n"
          ]
        }
      ]
    },
    {
      "cell_type": "markdown",
      "metadata": {
        "id": "Zn8uxLBQ5kd8"
      },
      "source": [
        "# **4. Ensemble model**"
      ]
    },
    {
      "cell_type": "code",
      "metadata": {
        "id": "ZKFIriq25i5c"
      },
      "source": [
        "# build the function for (weighted) average ensemble\n",
        "\n",
        "def ensemble_avg(models, model_input, weights = False):\n",
        "\n",
        "  model_outputs = [model(model_input) for model in models]\n",
        "\n",
        "  if weights != False:\n",
        "    for i in range(len(model_outputs)):\n",
        "      model_outputs[i] = model_outputs[i] * weights[i]\n",
        "\n",
        "  avg = tf.keras.layers.Average()(model_outputs)\n",
        "  ensemble = tf.keras.Model(inputs = model_input, outputs = avg)\n",
        "\n",
        "  return ensemble"
      ],
      "execution_count": 44,
      "outputs": []
    },
    {
      "cell_type": "code",
      "metadata": {
        "id": "xFx5AyME7Feg"
      },
      "source": [
        "# load model 2,4\n",
        "\n",
        "model2 = keras.models.load_model('/content/model2')\n",
        "model4 = keras.models.load_model('/content/model4')"
      ],
      "execution_count": 46,
      "outputs": []
    },
    {
      "cell_type": "code",
      "metadata": {
        "colab": {
          "base_uri": "https://localhost:8080/"
        },
        "id": "cWZPJd8e7lO0",
        "outputId": "1bc0c40d-72fc-4209-d3a5-244554e6671e"
      },
      "source": [
        "# rename to prevent error from ensemble_avg()\n",
        "\n",
        "model2._name = 'model_2'\n",
        "model4._name = 'model_4'\n",
        "\n",
        "print(model2.name)\n",
        "print(model4.name)"
      ],
      "execution_count": 51,
      "outputs": [
        {
          "output_type": "stream",
          "name": "stdout",
          "text": [
            "model_2\n",
            "model_4\n"
          ]
        }
      ]
    },
    {
      "cell_type": "code",
      "metadata": {
        "id": "gp6r-wLA5vIo"
      },
      "source": [
        "# generate data points for graph\n",
        "\n",
        "models = [model2, model4]\n",
        "\n",
        "test_loss_24 = []\n",
        "test_acc_24 = []\n",
        "for p in range(21):\n",
        "  ensemble_model = ensemble_avg(models = models, model_input = model_input, weights = [0.1*p, 2.0 - 0.1*p])\n",
        "  ensemble_model.compile(loss = \"categorical_crossentropy\", optimizer = optimizer, metrics = [\"accuracy\"])\n",
        "  score = ensemble_model.evaluate(x_test, y_test, verbose = 0)\n",
        "  test_loss_24.append(score[0])\n",
        "  test_acc_24.append(score[1])"
      ],
      "execution_count": 52,
      "outputs": []
    },
    {
      "cell_type": "code",
      "metadata": {
        "colab": {
          "base_uri": "https://localhost:8080/",
          "height": 573
        },
        "id": "24d1bA5O6NjG",
        "outputId": "e871a787-5d00-4c4a-d300-ddb89e4fdd55"
      },
      "source": [
        "# display test_loss of ensemble of various model2,4 proportion\n",
        "plt.plot(test_loss_24)\n",
        "plt.title('ensemble of 2,4: test_loss')\n",
        "plt.ylabel('loss')\n",
        "plt.xlabel('proportion of weight')\n",
        "plt.show()\n",
        "\n",
        "# display test_acc of ensemble of various model2,4 proportion\n",
        "plt.plot(test_acc_24)\n",
        "plt.title('ensemble of 2,4: test_acc')\n",
        "plt.ylabel('acc')\n",
        "plt.xlabel('proporiton of weight')\n",
        "plt.show()"
      ],
      "execution_count": 55,
      "outputs": [
        {
          "output_type": "display_data",
          "data": {
            "image/png": "[encoded data removed]",
            "text/plain": [
              "<Figure size 432x288 with 1 Axes>"
            ]
          },
          "metadata": {
            "needs_background": "light"
          }
        },
        {
          "output_type": "display_data",
          "data": {
            "image/png": "[encoded data removed]",
            "text/plain": [
              "<Figure size 432x288 with 1 Axes>"
            ]
          },
          "metadata": {
            "needs_background": "light"
          }
        }
      ]
    },
    {
      "cell_type": "code",
      "metadata": {
        "id": "x0PZp3wd6mJ1"
      },
      "source": [
        "# build the function for counting probability of weighted test_acc > single block test_acc\n",
        "# , and print best weight proportion\n",
        "\n",
        "def ensemble_evaluate(test_acc, title = 'no title'):\n",
        "\n",
        "  # calculate probability\n",
        "  count = 0\n",
        "  for acc in test_acc:\n",
        "    if acc > test_acc[0] and acc > test_acc[-1]:\n",
        "      count = count + 1\n",
        "  percent_better_acc = count / len(test_acc) * 100\n",
        "  \n",
        "  # find best weight proportion\n",
        "  p = np.argmax(test_acc)\n",
        "  p_A = 0.1 * p\n",
        "  p_B = 2.0 - 0.1 * p\n",
        "\n",
        "  # test_acc of each sub-model\n",
        "  test_acc_A = test_acc[-1]\n",
        "  test_acc_B = test_acc[0]\n",
        "\n",
        "  # calculate improvement\n",
        "  max_sub_model_acc = max(test_acc_A, test_acc_B)\n",
        "  best_test_acc = np.max(test_acc)\n",
        "  improvement = (best_test_acc - max_sub_model_acc) / max_sub_model_acc\n",
        "\n",
        "  print(title)\n",
        "  print(\" better than single sub-model :\", round(percent_better_acc, 3), \"%\")\n",
        "  print(\" best weight proportion :\", round(p_A, 2), \"of block_A,\", round(p_B, 2), \"of block_B\")\n",
        "  print(\" highest test_acc :\", round(best_test_acc, 3))\n",
        "  print(\" block_A test_acc :\", round(test_acc_A, 3), \"\\n block_B test_acc :\", round(test_acc_B, 3))\n",
        "  print(\" improvement :\", round(improvement * 100, 3), \"%\")\n",
        "  print()"
      ],
      "execution_count": 53,
      "outputs": []
    },
    {
      "cell_type": "code",
      "metadata": {
        "colab": {
          "base_uri": "https://localhost:8080/"
        },
        "id": "xcUOz7Jp6ur9",
        "outputId": "a3403601-b889-4d8f-c3c1-b5c3cf1e9630"
      },
      "source": [
        "ensemble_evaluate(test_acc_24, title = 'ensemble of model 2,4 : test_acc')"
      ],
      "execution_count": 54,
      "outputs": [
        {
          "output_type": "stream",
          "name": "stdout",
          "text": [
            "ensemble of model 2,4 : test_acc\n",
            " better than single sub-model : 47.619 %\n",
            " best weight proportion : 0.9 of block_A, 1.1 of block_B\n",
            " highest test_acc : 0.985\n",
            " block_A test_acc : 0.975 \n",
            " block_B test_acc : 0.983\n",
            " improvement : 0.182 %\n",
            "\n"
          ]
        }
      ]
    },
    {
      "cell_type": "markdown",
      "metadata": {
        "id": "fJYK2O_D_gdE"
      },
      "source": [
        "**Create and download ensemble.zip**"
      ]
    },
    {
      "cell_type": "code",
      "metadata": {
        "colab": {
          "base_uri": "https://localhost:8080/"
        },
        "id": "mQ4YKt7p_nf0",
        "outputId": "4408c0ee-56a5-412a-e0a3-ee4e4564a87e"
      },
      "source": [
        "# create best ensemble model\n",
        "models = [model2, model4]\n",
        "weights = [0.9, 1.1]\n",
        "\n",
        "ensemble_model = ensemble_avg(models = models, model_input = model_input, weights = weights)\n",
        "ensemble_model.compile(loss = \"categorical_crossentropy\", optimizer = optimizer, metrics = [\"accuracy\"])\n",
        "\n",
        "# evaluate best ensemble model\n",
        "score = ensemble_model.evaluate(x_test, y_test, verbose = 0)\n",
        "print(\"test loss of best ensemble model:\", score[0])\n",
        "print(\"test accuracy of best ensemble model:\", score[1])"
      ],
      "execution_count": 56,
      "outputs": [
        {
          "output_type": "stream",
          "name": "stdout",
          "text": [
            "test loss of ensemble model: 0.07231296598911285\n",
            "test accuracy of ensemble model: 0.9849528074264526\n"
          ]
        }
      ]
    },
    {
      "cell_type": "code",
      "metadata": {
        "colab": {
          "base_uri": "https://localhost:8080/"
        },
        "id": "oGkLV2wQA0yy",
        "outputId": "b951d08a-1ba9-4e9d-a452-d91ff2139ff4"
      },
      "source": [
        "ensemble_model.save('/content/ensemble')"
      ],
      "execution_count": 59,
      "outputs": [
        {
          "output_type": "stream",
          "name": "stdout",
          "text": [
            "INFO:tensorflow:Assets written to: /content/ensemble/assets\n"
          ]
        },
        {
          "output_type": "stream",
          "name": "stderr",
          "text": [
            "/usr/local/lib/python3.7/dist-packages/keras/engine/functional.py:1410: CustomMaskWarning: Custom mask layers require a config and must override get_config. When loading, the custom mask layer must be passed to the custom_objects argument.\n",
            "  layer_config = serialize_layer_fn(layer)\n",
            "/usr/local/lib/python3.7/dist-packages/keras/saving/saved_model/layer_serialization.py:112: CustomMaskWarning: Custom mask layers require a config and must override get_config. When loading, the custom mask layer must be passed to the custom_objects argument.\n",
            "  return generic_utils.serialize_keras_object(obj)\n"
          ]
        }
      ]
    },
    {
      "cell_type": "code",
      "metadata": {
        "colab": {
          "base_uri": "https://localhost:8080/"
        },
        "id": "h37NmBJTAXjT",
        "outputId": "ed0b58d7-00b0-41ff-81a3-de737b4b40c5"
      },
      "source": [
        "!zip -r /content/ensemble.zip /content/ensemble"
      ],
      "execution_count": 60,
      "outputs": [
        {
          "output_type": "stream",
          "name": "stdout",
          "text": [
            "  adding: content/ensemble/ (stored 0%)\n",
            "  adding: content/ensemble/assets/ (stored 0%)\n",
            "  adding: content/ensemble/variables/ (stored 0%)\n",
            "  adding: content/ensemble/variables/variables.data-00000-of-00001 (deflated 8%)\n",
            "  adding: content/ensemble/variables/variables.index (deflated 65%)\n",
            "  adding: content/ensemble/saved_model.pb (deflated 90%)\n",
            "  adding: content/ensemble/keras_metadata.pb (deflated 96%)\n"
          ]
        }
      ]
    },
    {
      "cell_type": "code",
      "metadata": {
        "colab": {
          "base_uri": "https://localhost:8080/",
          "height": 17
        },
        "id": "mdMMOPEHApeo",
        "outputId": "ea53908d-889a-471f-b6c7-03cca6716d3f"
      },
      "source": [
        "from google.colab import files\n",
        "\n",
        "files.download(\"/content/ensemble.zip\")"
      ],
      "execution_count": 61,
      "outputs": [
        {
          "output_type": "display_data",
          "data": {
            "application/javascript": [
              "\n",
              "    async function download(id, filename, size) {\n",
              "      if (!google.colab.kernel.accessAllowed) {\n",
              "        return;\n",
              "      }\n",
              "      const div = document.createElement('div');\n",
              "      const label = document.createElement('label');\n",
              "      label.textContent = `Downloading \"${filename}\": `;\n",
              "      div.appendChild(label);\n",
              "      const progress = document.createElement('progress');\n",
              "      progress.max = size;\n",
              "      div.appendChild(progress);\n",
              "      document.body.appendChild(div);\n",
              "\n",
              "      const buffers = [];\n",
              "      let downloaded = 0;\n",
              "\n",
              "      const channel = await google.colab.kernel.comms.open(id);\n",
              "      // Send a message to notify the kernel that we're ready.\n",
              "      channel.send({})\n",
              "\n",
              "      for await (const message of channel.messages) {\n",
              "        // Send a message to notify the kernel that we're ready.\n",
              "        channel.send({})\n",
              "        if (message.buffers) {\n",
              "          for (const buffer of message.buffers) {\n",
              "            buffers.push(buffer);\n",
              "            downloaded += buffer.byteLength;\n",
              "            progress.value = downloaded;\n",
              "          }\n",
              "        }\n",
              "      }\n",
              "      const blob = new Blob(buffers, {type: 'application/binary'});\n",
              "      const a = document.createElement('a');\n",
              "      a.href = window.URL.createObjectURL(blob);\n",
              "      a.download = filename;\n",
              "      div.appendChild(a);\n",
              "      a.click();\n",
              "      div.remove();\n",
              "    }\n",
              "  "
            ],
            "text/plain": [
              "<IPython.core.display.Javascript object>"
            ]
          },
          "metadata": {}
        },
        {
          "output_type": "display_data",
          "data": {
            "application/javascript": [
              "download(\"download_7e025e92-8621-4227-b5e6-48df73bbe365\", \"ensemble.zip\", 112470596)"
            ],
            "text/plain": [
              "<IPython.core.display.Javascript object>"
            ]
          },
          "metadata": {}
        }
      ]
    }
  ]
}